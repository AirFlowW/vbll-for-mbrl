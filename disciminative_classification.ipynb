{
 "cells": [
  {
   "cell_type": "code",
   "execution_count": 1,
   "id": "tribal-killer",
   "metadata": {},
   "outputs": [
    {
     "name": "stderr",
     "output_type": "stream",
     "text": [
      "/h/jwilles/.conda/envs/vbll/lib/python3.10/site-packages/tqdm/auto.py:21: TqdmWarning: IProgress not found. Please update jupyter and ipywidgets. See https://ipywidgets.readthedocs.io/en/stable/user_install.html\n",
      "  from .autonotebook import tqdm as notebook_tqdm\n"
     ]
    }
   ],
   "source": [
    "import torch\n",
    "import torch.nn as nn\n",
    "import torchvision.datasets as datasets\n",
    "import numpy as np\n",
    "from torch.utils.data import DataLoader\n",
    "from torchvision import transforms\n",
    "import matplotlib.pyplot as plt\n",
    "from torch.optim.lr_scheduler import StepLR\n",
    "\n",
    "from vbll.layers.classification import VBLLClassificationD"
   ]
  },
  {
   "cell_type": "code",
   "execution_count": 2,
   "id": "alpha-deposit",
   "metadata": {},
   "outputs": [],
   "source": [
    "mnist_train_dataset = datasets.FashionMNIST(root='data',\n",
    "                               train=True,\n",
    "                               transform=transforms.ToTensor(),\n",
    "                               download=True)\n",
    "\n",
    "mnist_test_dataset = datasets.FashionMNIST(root='data',\n",
    "                              train=False,\n",
    "                              transform=transforms.ToTensor())\n",
    "\n",
    "mnist_ood_dataset = datasets.MNIST(root='data',\n",
    "                                    train=False,\n",
    "                                    transform=transforms.ToTensor(),\n",
    "                                    download=True)\n"
   ]
  },
  {
   "cell_type": "code",
   "execution_count": 3,
   "id": "vietnamese-findings",
   "metadata": {},
   "outputs": [],
   "source": [
    "class Classifier(nn.Module):\n",
    "    def __init__(self, cfg):\n",
    "        super(Classifier, self).__init__()\n",
    "        self.cfg = cfg\n",
    "        self.fc1 = nn.Linear(cfg.IN_FEATURES, cfg.HIDDEN_FEATURES)\n",
    "        self.fc2 = nn.Linear(cfg.HIDDEN_FEATURES, cfg.HIDDEN_FEATURES)\n",
    "        self.relu = nn.ReLU()\n",
    "        self.vbll = VBLLClassificationD(cfg.HIDDEN_FEATURES,\n",
    "                                        cfg.OUT_FEATURES,\n",
    "                                        cfg.REG_WEIGHT,\n",
    "                                        parameterization = cfg.PARAM,\n",
    "                                        return_ood=cfg.RETURN_OOD)\n",
    "\n",
    "    def forward(self, x):\n",
    "        out = x.view(x.shape[0], -1)\n",
    "        out = self.relu(self.fc1(out))\n",
    "        out = self.relu(self.fc2(out))\n",
    "        return self.vbll(out)"
   ]
  },
  {
   "cell_type": "code",
   "execution_count": 4,
   "id": "efficient-retail",
   "metadata": {},
   "outputs": [],
   "source": [
    "device = \"cuda\" if torch.cuda.is_available() else \"mps\" if torch.backends.mps.is_available() else \"cpu\"\n",
    "\n",
    "if torch.cuda.is_available():\n",
    "    torch.backends.cudnn.deterministic = True"
   ]
  },
  {
   "cell_type": "code",
   "execution_count": 5,
   "id": "logical-pricing",
   "metadata": {},
   "outputs": [],
   "source": [
    "class MODEL_CFG:\n",
    "    IN_FEATURES = 784\n",
    "    HIDDEN_FEATURES = 256\n",
    "    OUT_FEATURES = 10\n",
    "    REG_WEIGHT = 1./mnist_train_dataset.__len__()\n",
    "    PARAM = 'dense'\n",
    "    RETURN_OOD = True\n",
    "\n",
    "model = Classifier(MODEL_CFG()).to(device)"
   ]
  },
  {
   "cell_type": "code",
   "execution_count": 9,
   "id": "finnish-modification",
   "metadata": {},
   "outputs": [],
   "source": [
    "class TRAIN_CFG:\n",
    "  num_epochs = 10\n",
    "  batch_size = 256\n",
    "  lr = 1e-3\n",
    "  lr_decay_every = 10000\n",
    "  lr_decay_gamma = 0.5\n",
    "  wd = 1e-2\n",
    "  opt = torch.optim.AdamW\n",
    "  clip_value = 1\n",
    "  validation_freq = 1\n",
    "\n",
    "def eval_acc(preds, y):\n",
    "    map_preds = torch.argmax(preds, dim=1)\n",
    "    return (map_preds == y).float().mean()\n",
    "\n",
    "def train(train_dataset, test_dataset, model, train_cfg):\n",
    "    \n",
    "  train_dataloader = DataLoader(train_dataset, batch_size = train_cfg.batch_size, shuffle=True)\n",
    "  test_dataloader = DataLoader(test_dataset, batch_size = train_cfg.batch_size, shuffle=True)\n",
    "    \n",
    "  optimizer = train_cfg.opt(model.parameters(), lr=train_cfg.lr, weight_decay=train_cfg.wd)\n",
    "  scheduler = StepLR(optimizer, step_size=train_cfg.lr_decay_every, gamma=train_cfg.lr_decay_gamma)\n",
    "\n",
    "  output_metrics = {\n",
    "      'train_loss': [],\n",
    "      'test_loss': [],\n",
    "      'train_acc': [],\n",
    "      'test_acc': []\n",
    "  }\n",
    "\n",
    "  for epoch in range(train_cfg.num_epochs + 1):\n",
    "    running_loss = []\n",
    "    running_acc = []\n",
    "\n",
    "    model.train()\n",
    "    for train_step, data in enumerate(train_dataloader):\n",
    "      optimizer.zero_grad()\n",
    "      x = data[0].to(device)\n",
    "      y_label = data[1].to(device)\n",
    "      out = model(x)\n",
    "\n",
    "      loss = out.train_loss_fn(y_label)\n",
    "      running_loss.append(loss.item())\n",
    "      running_acc.append(eval_acc(out.predictive.probs, y_label).item())\n",
    "\n",
    "      loss.backward()\n",
    "      torch.nn.utils.clip_grad_norm_(model.parameters(), train_cfg.clip_value)\n",
    "      optimizer.step()\n",
    "\n",
    "\n",
    "    output_metrics['train_loss'].append(np.mean(running_loss))\n",
    "    output_metrics['train_acc'].append(np.mean(running_acc))\n",
    "\n",
    "    scheduler.step()\n",
    "    if epoch % train_cfg.validation_freq == 0:\n",
    "      # print(f'[{epoch + 1}] loss: {np.mean(running_loss):.3f}')\n",
    "      # running_loss = []\n",
    "      running_test_loss = []\n",
    "      running_test_acc = []\n",
    "\n",
    "      with torch.no_grad():\n",
    "        model.eval()\n",
    "        for test_step, data in enumerate(test_dataloader):\n",
    "          x = data[0].to(device)\n",
    "          y_label = data[1].to(device)\n",
    "\n",
    "          out = model(x)\n",
    "          loss = out.val_loss_fn(y_label)\n",
    "          running_test_loss.append(loss.item())\n",
    "          running_test_acc.append(eval_acc(out.predictive.probs, y_label).item())\n",
    "\n",
    "        output_metrics['test_loss'].append(np.mean(running_test_loss))\n",
    "        output_metrics['test_acc'].append(np.mean(running_test_acc))\n",
    "\n",
    "  return output_metrics"
   ]
  },
  {
   "cell_type": "code",
   "execution_count": 10,
   "id": "decent-switzerland",
   "metadata": {},
   "outputs": [],
   "source": [
    "output = train(mnist_train_dataset, mnist_test_dataset, model, TRAIN_CFG())"
   ]
  },
  {
   "cell_type": "code",
   "execution_count": null,
   "id": "efficient-albania",
   "metadata": {},
   "outputs": [],
   "source": [
    "output"
   ]
  },
  {
   "cell_type": "code",
   "execution_count": null,
   "id": "parental-colon",
   "metadata": {},
   "outputs": [],
   "source": []
  }
 ],
 "metadata": {
  "kernelspec": {
   "display_name": "vbll",
   "language": "python",
   "name": "vbll"
  },
  "language_info": {
   "codemirror_mode": {
    "name": "ipython",
    "version": 3
   },
   "file_extension": ".py",
   "mimetype": "text/x-python",
   "name": "python",
   "nbconvert_exporter": "python",
   "pygments_lexer": "ipython3",
   "version": "3.10.4"
  }
 },
 "nbformat": 4,
 "nbformat_minor": 5
}
