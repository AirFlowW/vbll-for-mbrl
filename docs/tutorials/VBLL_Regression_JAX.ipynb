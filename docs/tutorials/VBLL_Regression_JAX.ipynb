{
  "cells": [
    {
      "cell_type": "markdown",
      "metadata": {},
      "source": [
        "# VBLL Regression \n",
        "\n",
        "In this notebook, we will walk through implementing a simple VBLL regression model. We will first set up a basic training loop on toy data, and show the model changes required to train a model with a VBLL last layer. Finally, we will show how VBLL models can be combined with other uncertainty quantification ideas."
      ]
    },
    {
      "cell_type": "code",
      "execution_count": null,
      "metadata": {
        "colab": {
          "base_uri": "https://localhost:8080/"
        },
        "id": "iYHjYFua5kag",
        "outputId": "6213a5a8-6d66-48e3-9cdb-ef7d79dad640"
      },
      "outputs": [
        {
          "name": "stdout",
          "output_type": "stream",
          "text": [
            "Looking in links: https://storage.googleapis.com/jax-releases/jax_cuda_releases.html\n",
            "Requirement already satisfied: numpyro[cuda] in /usr/local/lib/python3.10/dist-packages (0.14.0)\n",
            "Requirement already satisfied: jax>=0.4.14 in /usr/local/lib/python3.10/dist-packages (from numpyro[cuda]) (0.4.26)\n",
            "Requirement already satisfied: jaxlib>=0.4.14 in /usr/local/lib/python3.10/dist-packages (from numpyro[cuda]) (0.4.26+cuda12.cudnn89)\n",
            "Requirement already satisfied: multipledispatch in /usr/local/lib/python3.10/dist-packages (from numpyro[cuda]) (1.0.0)\n",
            "Requirement already satisfied: numpy in /usr/local/lib/python3.10/dist-packages (from numpyro[cuda]) (1.25.2)\n",
            "Requirement already satisfied: tqdm in /usr/local/lib/python3.10/dist-packages (from numpyro[cuda]) (4.66.2)\n",
            "Requirement already satisfied: ml-dtypes>=0.2.0 in /usr/local/lib/python3.10/dist-packages (from jax>=0.4.14->numpyro[cuda]) (0.2.0)\n",
            "Requirement already satisfied: opt-einsum in /usr/local/lib/python3.10/dist-packages (from jax>=0.4.14->numpyro[cuda]) (3.3.0)\n",
            "Requirement already satisfied: scipy>=1.9 in /usr/local/lib/python3.10/dist-packages (from jax>=0.4.14->numpyro[cuda]) (1.11.4)\n"
          ]
        }
      ],
      "source": [
        "!pip install numpyro[cuda] -f https://storage.googleapis.com/jax-releases/jax_cuda_releases.html"
      ]
    },
    {
      "cell_type": "code",
      "execution_count": 1,
      "metadata": {
        "id": "2gswSO7SHAbv"
      },
      "outputs": [
        {
          "name": "stderr",
          "output_type": "stream",
          "text": [
            "/Users/conor/miniconda3/envs/pymc_data_augmentation/lib/python3.11/site-packages/tqdm/auto.py:21: TqdmWarning: IProgress not found. Please update jupyter and ipywidgets. See https://ipywidgets.readthedocs.io/en/stable/user_install.html\n",
            "  from .autonotebook import tqdm as notebook_tqdm\n"
          ]
        }
      ],
      "source": [
        "# Install vbll\n",
        "# !pip install vbll\n",
        "import vbll\n",
        "\n",
        "# Import necessary packages\n",
        "import numpy as np\n",
        "from dataclasses import dataclass\n",
        "from torch.utils.data import Dataset, DataLoader\n",
        "import matplotlib.pyplot as plt\n",
        "from copy import deepcopy\n",
        "import jax\n",
        "import jax.numpy as jnp\n",
        "import flax.linen as nn\n",
        "from flax.training import train_state\n",
        "import optax\n",
        "from jax.scipy.linalg import cholesky, inv, solve, solve_triangular\n",
        "import numpyro\n",
        "import warnings"
      ]
    },
    {
      "cell_type": "code",
      "execution_count": 8,
      "metadata": {},
      "outputs": [
        {
          "ename": "AttributeError",
          "evalue": "module 'vbll' has no attribute 'jax'",
          "output_type": "error",
          "traceback": [
            "\u001b[0;31m---------------------------------------------------------------------------\u001b[0m",
            "\u001b[0;31mAttributeError\u001b[0m                            Traceback (most recent call last)",
            "Cell \u001b[0;32mIn[8], line 1\u001b[0m\n\u001b[0;32m----> 1\u001b[0m \u001b[43mvbll\u001b[49m\u001b[38;5;241;43m.\u001b[39;49m\u001b[43mjax\u001b[49m\n",
            "\u001b[0;31mAttributeError\u001b[0m: module 'vbll' has no attribute 'jax'"
          ]
        }
      ],
      "source": [
        "vbll.layers\n"
      ]
    },
    {
      "cell_type": "markdown",
      "metadata": {},
      "source": [
        "First we will define and visualize a simple dataset."
      ]
    },
    {
      "cell_type": "code",
      "execution_count": 16,
      "metadata": {
        "colab": {
          "base_uri": "https://localhost:8080/",
          "height": 435
        },
        "id": "p3RTVRXhHKeO",
        "outputId": "e69e083b-d521-4fe7-fbc9-f9f2c194a36b"
      },
      "outputs": [
        {
          "data": {
            "image/png": "[encoded data removed]",
            "text/plain": [
              "<Figure size 640x480 with 1 Axes>"
            ]
          },
          "metadata": {},
          "output_type": "display_data"
        }
      ],
      "source": [
        "class SimpleFnDataset(Dataset):\n",
        "    \"\"\"\n",
        "    CONOR: Adapted from the \"VBLL_Regression.ipynb\" example on the original repository\n",
        "    The simple function used in DUE/SNGP 1-d regression experiments.\n",
        "    Based on the implementation presented in:\n",
        "    https://github.com/y0ast/DUE/blob/main/toy_regression.ipynb\n",
        "    \"\"\"\n",
        "\n",
        "    def __init__(self, num_samples):\n",
        "        self.num_samples = int(num_samples)\n",
        "        self.X, self.Y = self.get_data()\n",
        "\n",
        "    def get_data(self, noise=0.15, seed=2):\n",
        "        np.random.seed(seed)\n",
        "\n",
        "        W = np.random.randn(30, 1)\n",
        "        b = np.random.rand(30, 1) * 2 * np.pi\n",
        "\n",
        "        x = 5 * np.sign(np.random.randn(self.num_samples)) + np.random.randn(self.num_samples).clip(-2, 2)\n",
        "        y = np.cos(W * x + b).sum(0)/5. + noise * np.random.randn(self.num_samples)\n",
        "        return x[:, np.newaxis]/10, y[:, np.newaxis]\n",
        "\n",
        "    def __len__(self):\n",
        "        return self.num_samples\n",
        "\n",
        "    def __getitem__(self, idx):\n",
        "        return self.X[idx], self.Y[idx]\n",
        "\n",
        "def viz_data(dataset):\n",
        "    plt.scatter(dataset.X, dataset.Y, color='k')\n",
        "    plt.axis([-1.5, 1.5, -2, 2])\n",
        "    plt.show()\n",
        "\n",
        "dataset = SimpleFnDataset(num_samples=256)\n",
        "\n",
        "viz_data(dataset)"
      ]
    },
    {
      "cell_type": "markdown",
      "metadata": {},
      "source": [
        "We will start by defining a simple MLP with a standard last layer and loss function. We will also write a viz function to plot model predictions, and a standard training loop."
      ]
    },
    {
      "cell_type": "code",
      "execution_count": 17,
      "metadata": {
        "id": "__SUqAUhHf0M"
      },
      "outputs": [],
      "source": [
        "class MLP(nn.Module):\n",
        "    \"\"\"\n",
        "    cfg: a config containing model parameters.\n",
        "    \"\"\"\n",
        "    cfg: any\n",
        "\n",
        "    def setup(self):\n",
        "        # define model layers\n",
        "        self.in_layer = nn.Dense(features=self.cfg.HIDDEN_FEATURES)\n",
        "        self.core = [nn.Dense(features=self.cfg.HIDDEN_FEATURES) for _ in range(self.cfg.NUM_LAYERS)]\n",
        "        self.activations = [jax.nn.elu for _ in range(self.cfg.NUM_LAYERS)]\n",
        "        self.out_layer = nn.Dense(features=self.cfg.OUT_FEATURES)\n",
        "\n",
        "    def __call__(self, x):\n",
        "        x = self.in_layer(x)\n",
        "        for layer, activation in zip(self.core, self.activations):\n",
        "            x = activation(layer(x))\n",
        "        x = self.out_layer(x)\n",
        "        return x\n",
        "\n",
        "def viz_model(model, params, dataset, title=None):\n",
        "    \"\"\"Visualize prediction of standard regression model.\"\"\"\n",
        "    # Prepare input data\n",
        "    X = jnp.linspace(-1.5, 1.5, 1000)[:, None]\n",
        "\n",
        "    # JIT compile the model prediction to improve performance\n",
        "    @jax.jit\n",
        "    def predict(params, x):\n",
        "        return model.apply({'params': params}, x)\n",
        "\n",
        "    # Get predictions\n",
        "    Y_pred = predict(params, X)\n",
        "\n",
        "    # Plot predictions\n",
        "    plt.plot(X, Y_pred, label='Model Predictions')\n",
        "    plt.scatter(dataset.X, dataset.Y, color='k', label='Data Points')\n",
        "    plt.axis([-1.5, 1.5, -3, 3])\n",
        "    if title is not None:\n",
        "        plt.title(title)\n",
        "    plt.show()\n",
        "\n",
        "def create_train_state(rng, model, train_cfg):\n",
        "    \"\"\"Create and initialize the training state.\"\"\"\n",
        "    params = model.init(rng, jnp.ones([1, model.cfg.IN_FEATURES]))['params']\n",
        "    schedule = optax.warmup_cosine_decay_schedule(\n",
        "        init_value=0.0,\n",
        "        peak_value=train_cfg.LR,\n",
        "        warmup_steps=50,\n",
        "        decay_steps=train_cfg.NUM_EPOCHS,\n",
        "        end_value=0.0,\n",
        "    )\n",
        "    tx = optax.adamw(learning_rate=schedule, weight_decay=train_cfg.WD)\n",
        "    return train_state.TrainState.create(apply_fn=model.apply, params=params, tx=tx)\n",
        "\n",
        "def mse_loss(params, x, y):\n",
        "    predictions = model.apply({'params': params}, x)\n",
        "    return jnp.mean(jnp.square(predictions - y))\n",
        "\n",
        "@jax.jit\n",
        "def train_step(state, x, y):\n",
        "    \"\"\"Perform a single training step.\"\"\"\n",
        "    loss_value, grads = jax.value_and_grad(mse_loss)(state.params, x, y)\n",
        "    state = state.apply_gradients(grads=grads)\n",
        "    return state, loss_value\n",
        "\n",
        "def data_loader(rng, dataset, batch_size):\n",
        "    steps_per_epoch = len(dataset) // batch_size\n",
        "    perms = jax.random.permutation(rng, len(dataset))\n",
        "    perms = perms[:steps_per_epoch * batch_size]  # Skip incomplete batch\n",
        "    perms = perms.reshape((steps_per_epoch, batch_size))\n",
        "\n",
        "    for perm in perms:\n",
        "        batch_x = dataset.X[perm]\n",
        "        batch_y = dataset.Y[perm]\n",
        "        yield batch_x, batch_y\n",
        "\n",
        "def train(dataloader, model, train_cfg, verbose=True):\n",
        "    \"\"\"Train a standard regression model with MSE loss using JAX/Flax and Optax.\"\"\"\n",
        "    rng = jax.random.PRNGKey(0)\n",
        "    state = create_train_state(rng, model, train_cfg)\n",
        "\n",
        "    for epoch in range(train_cfg.NUM_EPOCHS + 1):\n",
        "        # TODO see that BlackJAX changed how to deal with random numbers lately\n",
        "        rng, data_rng = jax.random.split(rng)\n",
        "        running_loss = 0\n",
        "\n",
        "        for batch in dataloader(data_rng):\n",
        "            x_batch, y_batch = batch\n",
        "            state, loss = train_step(state, x_batch, y_batch)\n",
        "            running_loss += loss\n",
        "\n",
        "        if epoch % train_cfg.VAL_FREQ == 0 and verbose:\n",
        "            avg_loss = running_loss / (len(dataset) // train_cfg.BATCH_SIZE)\n",
        "            print(f'Epoch {epoch} loss: {avg_loss:.3f}')\n",
        "\n",
        "    return state.params"
      ]
    },
    {
      "cell_type": "code",
      "execution_count": 18,
      "metadata": {
        "colab": {
          "base_uri": "https://localhost:8080/",
          "height": 626
        },
        "id": "CujrGPAyHp9Z",
        "outputId": "96f78ea4-1292-485c-e9c4-da01f02a92e3"
      },
      "outputs": [
        {
          "name": "stdout",
          "output_type": "stream",
          "text": [
            "Epoch 0 loss: 0.546\n",
            "Epoch 100 loss: 0.026\n",
            "Epoch 200 loss: 0.025\n",
            "Epoch 300 loss: 0.025\n",
            "Epoch 400 loss: 0.025\n",
            "Epoch 500 loss: 0.025\n",
            "Epoch 600 loss: 0.025\n",
            "Epoch 700 loss: 0.025\n",
            "Epoch 800 loss: 0.025\n",
            "Epoch 900 loss: 0.025\n",
            "Epoch 1000 loss: 0.025\n"
          ]
        },
        {
          "data": {
            "image/png": "[encoded data removed]",
            "text/plain": [
              "<Figure size 640x480 with 1 Axes>"
            ]
          },
          "metadata": {},
          "output_type": "display_data"
        }
      ],
      "source": [
        "class train_cfg:\n",
        "    NUM_EPOCHS = 1000\n",
        "    BATCH_SIZE = 32\n",
        "    LR = 3e-3\n",
        "    WD = 0.\n",
        "    VAL_FREQ = 100\n",
        "\n",
        "class cfg:\n",
        "    IN_FEATURES = 1\n",
        "    HIDDEN_FEATURES = 64\n",
        "    OUT_FEATURES = 1\n",
        "    NUM_LAYERS = 4\n",
        "\n",
        "# Create an instance of the MLP model\n",
        "model = MLP(cfg())\n",
        "\n",
        "# Train the model\n",
        "trained_params = train(lambda rng: data_loader(rng, dataset, train_cfg.BATCH_SIZE), model, train_cfg)\n",
        "\n",
        "# Visualize the model\n",
        "viz_model(model, trained_params, dataset)"
      ]
    },
    {
      "cell_type": "markdown",
      "metadata": {},
      "source": [
        "As can be seen above, the model has trained and makes good prediction. However, we don't know how well it predicts far from data, and we don't have any measure of the model's uncertainty. Next, we will modify the above loop to include a VBLL last layer.\n",
        "\n",
        "Notice that the only required change in the model definition is changing out_layer in the model params to a VBLLRegression layer. This layer also takes parameters:\n",
        "- REG_WEIGHT: the KL regularization strength. By default, this should be 1/(dataset size). This term primarily impacts the last layer _epistemic_ uncertainty.\n",
        "- PRIOR_SCALE: the scale of the last layer prior. This also behaves as a regularization term, and controls last layer regularization strength.\n",
        "- WISHART_SCALE: regularization strengthe for the noise covariance. This term impacts the estimated _aleatoric_ uncertainty."
      ]
    },
    {
      "cell_type": "code",
      "execution_count": 19,
      "metadata": {
        "id": "rLj-Z4MOym3B"
      },
      "outputs": [],
      "source": [
        "class VBLLMLP(nn.Module):\n",
        "    \"\"\"\n",
        "    A MLP with VBLL\n",
        "    cfg: a config containing model parameters\n",
        "    \"\"\"\n",
        "\n",
        "    cfg: any\n",
        "\n",
        "    def setup(self):\n",
        "        # define model layers\n",
        "        self.in_layer = nn.Dense(features=self.cfg.HIDDEN_FEATURES)\n",
        "        self.core = [nn.Dense(features=self.cfg.HIDDEN_FEATURES) for _ in range(self.cfg.NUM_LAYERS)]\n",
        "        self.activations = [jax.nn.elu for _ in range(self.cfg.NUM_LAYERS)]\n",
        "        self.out_layer = vbll.Regression_JAX(\n",
        "            in_features=self.cfg.HIDDEN_FEATURES,\n",
        "            out_features=self.cfg.OUT_FEATURES,\n",
        "            regularization_weight=self.cfg.REG_WEIGHT,\n",
        "            prior_scale=self.cfg.PRIOR_SCALE,\n",
        "            wishart_scale=self.cfg.WISHART_SCALE\n",
        "        )\n",
        "\n",
        "    def __call__(self, x):\n",
        "        x = self.in_layer(x)\n",
        "        for layer, activation in zip(self.core, self.activations):\n",
        "            x = activation(layer(x))\n",
        "        x = self.out_layer(x)\n",
        "        return x"
      ]
    },
    {
      "cell_type": "code",
      "execution_count": 20,
      "metadata": {
        "colab": {
          "base_uri": "https://localhost:8080/",
          "height": 626
        },
        "id": "BEaLmQiv79lt",
        "outputId": "40dd37a7-2ae0-420a-df6c-37df2f84534d"
      },
      "outputs": [
        {
          "ename": "AttributeError",
          "evalue": "module 'vbll' has no attribute 'Regression_JAX'",
          "output_type": "error",
          "traceback": [
            "\u001b[0;31m---------------------------------------------------------------------------\u001b[0m",
            "\u001b[0;31mAttributeError\u001b[0m                            Traceback (most recent call last)",
            "Cell \u001b[0;32mIn[20], line 91\u001b[0m\n\u001b[1;32m     88\u001b[0m     DOF \u001b[38;5;241m=\u001b[39m \u001b[38;5;241m1.0\u001b[39m\n\u001b[1;32m     90\u001b[0m vbll_model \u001b[38;5;241m=\u001b[39m VBLLMLP(cfg())\n\u001b[0;32m---> 91\u001b[0m trained_params \u001b[38;5;241m=\u001b[39m \u001b[43mtrain_vbll\u001b[49m\u001b[43m(\u001b[49m\u001b[38;5;28;43;01mlambda\u001b[39;49;00m\u001b[43m \u001b[49m\u001b[43mrng\u001b[49m\u001b[43m:\u001b[49m\u001b[43m \u001b[49m\u001b[43mdata_loader\u001b[49m\u001b[43m(\u001b[49m\u001b[43mrng\u001b[49m\u001b[43m,\u001b[49m\u001b[43m \u001b[49m\u001b[43mdataset\u001b[49m\u001b[43m,\u001b[49m\u001b[43m \u001b[49m\u001b[43mtrain_cfg\u001b[49m\u001b[38;5;241;43m.\u001b[39;49m\u001b[43mBATCH_SIZE\u001b[49m\u001b[43m)\u001b[49m\u001b[43m,\u001b[49m\u001b[43m \u001b[49m\u001b[43mvbll_model\u001b[49m\u001b[43m,\u001b[49m\u001b[43m \u001b[49m\u001b[43mtrain_cfg\u001b[49m\u001b[43m)\u001b[49m\n\u001b[1;32m     92\u001b[0m viz_vbll_model(vbll_model, trained_params, dataset)\n",
            "Cell \u001b[0;32mIn[20], line 54\u001b[0m, in \u001b[0;36mtrain_vbll\u001b[0;34m(dataloader, model, train_cfg, verbose)\u001b[0m\n\u001b[1;32m     51\u001b[0m     \u001b[38;5;28;01mreturn\u001b[39;00m state, loss_value\n\u001b[1;32m     53\u001b[0m rng \u001b[38;5;241m=\u001b[39m jax\u001b[38;5;241m.\u001b[39mrandom\u001b[38;5;241m.\u001b[39mPRNGKey(\u001b[38;5;241m0\u001b[39m)\n\u001b[0;32m---> 54\u001b[0m state \u001b[38;5;241m=\u001b[39m \u001b[43mcreate_train_state_vbll\u001b[49m\u001b[43m(\u001b[49m\u001b[43mrng\u001b[49m\u001b[43m,\u001b[49m\u001b[43m \u001b[49m\u001b[43mmodel\u001b[49m\u001b[43m,\u001b[49m\u001b[43m \u001b[49m\u001b[43mtrain_cfg\u001b[49m\u001b[43m)\u001b[49m\n\u001b[1;32m     56\u001b[0m \u001b[38;5;28;01mfor\u001b[39;00m epoch \u001b[38;5;129;01min\u001b[39;00m \u001b[38;5;28mrange\u001b[39m(train_cfg\u001b[38;5;241m.\u001b[39mNUM_EPOCHS \u001b[38;5;241m+\u001b[39m \u001b[38;5;241m1\u001b[39m):\n\u001b[1;32m     57\u001b[0m     rng, data_rng \u001b[38;5;241m=\u001b[39m jax\u001b[38;5;241m.\u001b[39mrandom\u001b[38;5;241m.\u001b[39msplit(rng)\n",
            "Cell \u001b[0;32mIn[20], line 28\u001b[0m, in \u001b[0;36mtrain_vbll.<locals>.create_train_state_vbll\u001b[0;34m(rng, model, train_cfg)\u001b[0m\n\u001b[1;32m     26\u001b[0m \u001b[38;5;28;01mdef\u001b[39;00m \u001b[38;5;21mcreate_train_state_vbll\u001b[39m(rng, model, train_cfg):\n\u001b[1;32m     27\u001b[0m \u001b[38;5;250m    \u001b[39m\u001b[38;5;124;03m\"\"\"Create and initialize the training state for VBLL.\"\"\"\u001b[39;00m\n\u001b[0;32m---> 28\u001b[0m     params \u001b[38;5;241m=\u001b[39m \u001b[43mmodel\u001b[49m\u001b[38;5;241;43m.\u001b[39;49m\u001b[43minit\u001b[49m\u001b[43m(\u001b[49m\u001b[43mrng\u001b[49m\u001b[43m,\u001b[49m\u001b[43m \u001b[49m\u001b[43mjnp\u001b[49m\u001b[38;5;241;43m.\u001b[39;49m\u001b[43mones\u001b[49m\u001b[43m(\u001b[49m\u001b[43m[\u001b[49m\u001b[38;5;241;43m1\u001b[39;49m\u001b[43m,\u001b[49m\u001b[43m \u001b[49m\u001b[43mmodel\u001b[49m\u001b[38;5;241;43m.\u001b[39;49m\u001b[43mcfg\u001b[49m\u001b[38;5;241;43m.\u001b[39;49m\u001b[43mIN_FEATURES\u001b[49m\u001b[43m]\u001b[49m\u001b[43m)\u001b[49m\u001b[43m)\u001b[49m[\u001b[38;5;124m'\u001b[39m\u001b[38;5;124mparams\u001b[39m\u001b[38;5;124m'\u001b[39m]\n\u001b[1;32m     29\u001b[0m     schedule \u001b[38;5;241m=\u001b[39m optax\u001b[38;5;241m.\u001b[39mwarmup_cosine_decay_schedule(\n\u001b[1;32m     30\u001b[0m         init_value\u001b[38;5;241m=\u001b[39m\u001b[38;5;241m0.0\u001b[39m,\n\u001b[1;32m     31\u001b[0m         peak_value\u001b[38;5;241m=\u001b[39mtrain_cfg\u001b[38;5;241m.\u001b[39mLR,\n\u001b[0;32m   (...)\u001b[0m\n\u001b[1;32m     34\u001b[0m         end_value\u001b[38;5;241m=\u001b[39m\u001b[38;5;241m0.0\u001b[39m,\n\u001b[1;32m     35\u001b[0m     )\n\u001b[1;32m     36\u001b[0m     tx \u001b[38;5;241m=\u001b[39m optax\u001b[38;5;241m.\u001b[39mchain(\n\u001b[1;32m     37\u001b[0m         optax\u001b[38;5;241m.\u001b[39mclip_by_global_norm(train_cfg\u001b[38;5;241m.\u001b[39mCLIP_VAL),\n\u001b[1;32m     38\u001b[0m         optax\u001b[38;5;241m.\u001b[39madamw(learning_rate\u001b[38;5;241m=\u001b[39mschedule, weight_decay\u001b[38;5;241m=\u001b[39mtrain_cfg\u001b[38;5;241m.\u001b[39mWD)\n\u001b[1;32m     39\u001b[0m     )\n",
            "    \u001b[0;31m[... skipping hidden 12 frame]\u001b[0m\n",
            "Cell \u001b[0;32mIn[19], line 14\u001b[0m, in \u001b[0;36mVBLLMLP.setup\u001b[0;34m(self)\u001b[0m\n\u001b[1;32m     12\u001b[0m \u001b[38;5;28mself\u001b[39m\u001b[38;5;241m.\u001b[39mcore \u001b[38;5;241m=\u001b[39m [nn\u001b[38;5;241m.\u001b[39mDense(features\u001b[38;5;241m=\u001b[39m\u001b[38;5;28mself\u001b[39m\u001b[38;5;241m.\u001b[39mcfg\u001b[38;5;241m.\u001b[39mHIDDEN_FEATURES) \u001b[38;5;28;01mfor\u001b[39;00m _ \u001b[38;5;129;01min\u001b[39;00m \u001b[38;5;28mrange\u001b[39m(\u001b[38;5;28mself\u001b[39m\u001b[38;5;241m.\u001b[39mcfg\u001b[38;5;241m.\u001b[39mNUM_LAYERS)]\n\u001b[1;32m     13\u001b[0m \u001b[38;5;28mself\u001b[39m\u001b[38;5;241m.\u001b[39mactivations \u001b[38;5;241m=\u001b[39m [jax\u001b[38;5;241m.\u001b[39mnn\u001b[38;5;241m.\u001b[39melu \u001b[38;5;28;01mfor\u001b[39;00m _ \u001b[38;5;129;01min\u001b[39;00m \u001b[38;5;28mrange\u001b[39m(\u001b[38;5;28mself\u001b[39m\u001b[38;5;241m.\u001b[39mcfg\u001b[38;5;241m.\u001b[39mNUM_LAYERS)]\n\u001b[0;32m---> 14\u001b[0m \u001b[38;5;28mself\u001b[39m\u001b[38;5;241m.\u001b[39mout_layer \u001b[38;5;241m=\u001b[39m \u001b[43mvbll\u001b[49m\u001b[38;5;241;43m.\u001b[39;49m\u001b[43mRegression_JAX\u001b[49m(\n\u001b[1;32m     15\u001b[0m     in_features\u001b[38;5;241m=\u001b[39m\u001b[38;5;28mself\u001b[39m\u001b[38;5;241m.\u001b[39mcfg\u001b[38;5;241m.\u001b[39mHIDDEN_FEATURES,\n\u001b[1;32m     16\u001b[0m     out_features\u001b[38;5;241m=\u001b[39m\u001b[38;5;28mself\u001b[39m\u001b[38;5;241m.\u001b[39mcfg\u001b[38;5;241m.\u001b[39mOUT_FEATURES,\n\u001b[1;32m     17\u001b[0m     regularization_weight\u001b[38;5;241m=\u001b[39m\u001b[38;5;28mself\u001b[39m\u001b[38;5;241m.\u001b[39mcfg\u001b[38;5;241m.\u001b[39mREG_WEIGHT,\n\u001b[1;32m     18\u001b[0m     prior_scale\u001b[38;5;241m=\u001b[39m\u001b[38;5;28mself\u001b[39m\u001b[38;5;241m.\u001b[39mcfg\u001b[38;5;241m.\u001b[39mPRIOR_SCALE,\n\u001b[1;32m     19\u001b[0m     wishart_scale\u001b[38;5;241m=\u001b[39m\u001b[38;5;28mself\u001b[39m\u001b[38;5;241m.\u001b[39mcfg\u001b[38;5;241m.\u001b[39mWISHART_SCALE\n\u001b[1;32m     20\u001b[0m )\n",
            "\u001b[0;31mAttributeError\u001b[0m: module 'vbll' has no attribute 'Regression_JAX'"
          ]
        }
      ],
      "source": [
        "def viz_vbll_model(model, params, dataset, stdevs=1.0, title=None):\n",
        "    \"\"\"Visualize VBLL model predictions, including predictive uncertainty.\"\"\"\n",
        "    X = jnp.linspace(-1.5, 1.5, 1000)[:, None]\n",
        "    Xp = X.squeeze()\n",
        "\n",
        "    @jax.jit\n",
        "    def predict(params, x):\n",
        "        return model.apply({'params': params}, x).predictive\n",
        "\n",
        "    Y_pred = predict(params, X)\n",
        "    Y_mean = Y_pred.mean.squeeze()\n",
        "    Y_stdev = jnp.sqrt(jnp.diag(Y_pred.covariance)).squeeze()\n",
        "\n",
        "    plt.plot(Xp, Y_mean)\n",
        "    plt.fill_between(Xp, Y_mean - stdevs * Y_stdev, Y_mean + stdevs * Y_stdev, alpha=0.2, color='b')\n",
        "    plt.fill_between(Xp, Y_mean - 2 * stdevs * Y_stdev, Y_mean + 2 * stdevs * Y_stdev, alpha=0.2, color='b')\n",
        "    plt.scatter(dataset.X, dataset.Y, color='k')\n",
        "    plt.axis([-1.5, 1.5, -2, 2])\n",
        "    if title is not None:\n",
        "        plt.title(title)\n",
        "    plt.show()\n",
        "\n",
        "def train_vbll(dataloader, model, train_cfg, verbose=True):\n",
        "    \"\"\"Train a VBLL model.\"\"\"\n",
        "\n",
        "    def create_train_state_vbll(rng, model, train_cfg):\n",
        "        \"\"\"Create and initialize the training state for VBLL.\"\"\"\n",
        "        params = model.init(rng, jnp.ones([1, model.cfg.IN_FEATURES]))['params']\n",
        "        schedule = optax.warmup_cosine_decay_schedule(\n",
        "            init_value=0.0,\n",
        "            peak_value=train_cfg.LR,\n",
        "            warmup_steps=50,\n",
        "            decay_steps=train_cfg.NUM_EPOCHS,\n",
        "            end_value=0.0,\n",
        "        )\n",
        "        tx = optax.chain(\n",
        "            optax.clip_by_global_norm(train_cfg.CLIP_VAL),\n",
        "            optax.adamw(learning_rate=schedule, weight_decay=train_cfg.WD)\n",
        "        )\n",
        "        return train_state.TrainState.create(apply_fn=model.apply, params=params, tx=tx)\n",
        "\n",
        "    @jax.jit\n",
        "    def train_step_vbll(state, x, y):\n",
        "        \"\"\"Perform a single training step for VBLL.\"\"\"\n",
        "        def loss_fn(params):\n",
        "            out = model.apply({'params': params}, x)\n",
        "            return out.train_loss_fn(y)\n",
        "\n",
        "        loss_value, grads = jax.value_and_grad(loss_fn)(state.params)\n",
        "        state = state.apply_gradients(grads=grads)\n",
        "        return state, loss_value\n",
        "\n",
        "    rng = jax.random.PRNGKey(0)\n",
        "    state = create_train_state_vbll(rng, model, train_cfg)\n",
        "\n",
        "    for epoch in range(train_cfg.NUM_EPOCHS + 1):\n",
        "        rng, data_rng = jax.random.split(rng)\n",
        "        running_loss = 0\n",
        "\n",
        "        for batch in dataloader(data_rng):\n",
        "            x_batch, y_batch = batch\n",
        "            state, loss = train_step_vbll(state, x_batch, y_batch)\n",
        "            running_loss += loss\n",
        "\n",
        "        if epoch % train_cfg.VAL_FREQ == 0 and verbose:\n",
        "            avg_loss = running_loss / (len(dataset) // train_cfg.BATCH_SIZE)\n",
        "            print(f'Epoch: {epoch:4d}, loss: {avg_loss:10.4f}')\n",
        "\n",
        "    return state.params\n",
        "\n",
        "class train_cfg:\n",
        "    NUM_EPOCHS = 1000\n",
        "    BATCH_SIZE = 32\n",
        "    LR = 1e-3\n",
        "    WD = 1e-4\n",
        "    CLIP_VAL = 1.0\n",
        "    VAL_FREQ = 100\n",
        "\n",
        "class cfg:\n",
        "    IN_FEATURES = 1\n",
        "    HIDDEN_FEATURES = 64\n",
        "    OUT_FEATURES = 1\n",
        "    NUM_LAYERS = 4\n",
        "    REG_WEIGHT = 1. / dataset.__len__()\n",
        "    PARAM = 'dense'\n",
        "    PRIOR_SCALE = 1.\n",
        "    WISHART_SCALE = 0.01\n",
        "    DOF = 1.0\n",
        "\n",
        "vbll_model = VBLLMLP(cfg())\n",
        "trained_params = train_vbll(lambda rng: data_loader(rng, dataset, train_cfg.BATCH_SIZE), vbll_model, train_cfg)\n",
        "viz_vbll_model(vbll_model, trained_params, dataset)"
      ]
    },
    {
      "cell_type": "code",
      "execution_count": 23,
      "metadata": {},
      "outputs": [
        {
          "ename": "AttributeError",
          "evalue": "module 'vbll' has no attribute 'jax'",
          "output_type": "error",
          "traceback": [
            "\u001b[0;31m---------------------------------------------------------------------------\u001b[0m",
            "\u001b[0;31mAttributeError\u001b[0m                            Traceback (most recent call last)",
            "Cell \u001b[0;32mIn[23], line 1\u001b[0m\n\u001b[0;32m----> 1\u001b[0m \u001b[43mvbll\u001b[49m\u001b[38;5;241;43m.\u001b[39;49m\u001b[43mjax\u001b[49m\u001b[38;5;241m.\u001b[39mRegression_JAX\n",
            "\u001b[0;31mAttributeError\u001b[0m: module 'vbll' has no attribute 'jax'"
          ]
        }
      ],
      "source": [
        "vbll.jax.Regression_JAX"
      ]
    },
    {
      "cell_type": "code",
      "execution_count": 1,
      "metadata": {},
      "outputs": [],
      "source": [
        "import vbll"
      ]
    },
    {
      "cell_type": "code",
      "execution_count": 4,
      "metadata": {},
      "outputs": [
        {
          "data": {
            "text/plain": [
              "<module 'vbll.layers' from '/Users/conor/Library/CloudStorage/OneDrive-QueenslandUniversityofTechnology/Documents/GitHub/vbll/vbll/layers/__init__.py'>"
            ]
          },
          "execution_count": 4,
          "metadata": {},
          "output_type": "execute_result"
        }
      ],
      "source": [
        "vbll.layers"
      ]
    },
    {
      "cell_type": "code",
      "execution_count": 8,
      "metadata": {},
      "outputs": [
        {
          "ename": "AttributeError",
          "evalue": "module 'vbll' has no attribute 'Regression_JAX'",
          "output_type": "error",
          "traceback": [
            "\u001b[0;31m---------------------------------------------------------------------------\u001b[0m",
            "\u001b[0;31mAttributeError\u001b[0m                            Traceback (most recent call last)",
            "Cell \u001b[0;32mIn[8], line 1\u001b[0m\n\u001b[0;32m----> 1\u001b[0m \u001b[43mvbll\u001b[49m\u001b[38;5;241;43m.\u001b[39;49m\u001b[43mRegression_JAX\u001b[49m\n",
            "\u001b[0;31mAttributeError\u001b[0m: module 'vbll' has no attribute 'Regression_JAX'"
          ]
        }
      ],
      "source": [
        "vbll.Regression_JAX"
      ]
    },
    {
      "cell_type": "code",
      "execution_count": null,
      "metadata": {},
      "outputs": [],
      "source": []
    }
  ],
  "metadata": {
    "colab": {
      "provenance": []
    },
    "kernelspec": {
      "display_name": "Python 3",
      "name": "python3"
    },
    "language_info": {
      "codemirror_mode": {
        "name": "ipython",
        "version": 3
      },
      "file_extension": ".py",
      "mimetype": "text/x-python",
      "name": "python",
      "nbconvert_exporter": "python",
      "pygments_lexer": "ipython3",
      "version": "3.11.5"
    }
  },
  "nbformat": 4,
  "nbformat_minor": 0
}
